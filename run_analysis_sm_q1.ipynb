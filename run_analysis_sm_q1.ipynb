{
 "cells": [
  {
   "cell_type": "code",
   "execution_count": null,
   "id": "32fd1c6e",
   "metadata": {},
   "outputs": [],
   "source": [
    "from trends.utils import get_data\n",
    "from trends.sm_q1 import check_batch\n",
    "import pandas as pd\n",
    "\n",
    "task_names = [\"task_sales\", \"task_elections\", \"task_sm\"]\n",
    "task_names = [\"task_sm\"]\n",
    "model_names = [\"meta-llama/Llama-3.1-8B-Instruct\", \"Qwen/Qwen3-8B\"]\n",
    "model_names = [\"openai/gpt-4o-mini\"]\n",
    "method_names = [\"base\", \"rft\", \"tfb\"]\n",
    "# keys = ['prompt', 'completion', 'player_candidates', 'player_thinks']\n",
    "\n",
    "def make_df_fabricated_info(task_name, model_name, method_name):\n",
    "    data = get_data(task_name, model_name, method_name)[:]\n",
    "    prompts = [item[\"prompt\"] for item in data]\n",
    "    generations = [item[\"player_candidates\"] for item in data]\n",
    "    thinks, answers = check_batch(prompts, generations)\n",
    "    df = pd.DataFrame({\"prompt\": prompts, \"generation\": generations, \"think\": thinks, \"fabricated_information\": answers})\n",
    "    return df\n",
    "\n",
    "ALL_FABRICATED_INFO= {}\n",
    "for task_name in task_names:\n",
    "    ALL_FABRICATED_INFO[task_name] = {}\n",
    "    for model_name in model_names:\n",
    "        ALL_FABRICATED_INFO[task_name][model_name] = {}\n",
    "        for method_name in method_names:\n",
    "            ALL_FABRICATED_INFO[task_name][model_name][method_name] = make_df_fabricated_info(task_name, model_name, method_name)\n",
    "        ALL_FABRICATED_INFO[task_name][model_name] = pd.concat(ALL_FABRICATED_INFO[task_name][model_name])\n",
    "    ALL_FABRICATED_INFO[task_name] = pd.concat(ALL_FABRICATED_INFO[task_name])\n",
    "\n",
    "ALL_FABRICATED_INFO"
   ]
  },
  {
   "cell_type": "code",
   "execution_count": null,
   "id": "e2d5281a",
   "metadata": {},
   "outputs": [],
   "source": [
    "import os\n",
    "import pandas as pd\n",
    "\n",
    "os.makedirs(\"results/fabricated_info\", exist_ok=True)\n",
    "\n",
    "for task_name in task_names:\n",
    "    df = ALL_FABRICATED_INFO[task_name]\n",
    "\n",
    "    # Convert to numeric, dropping non-numerical values\n",
    "    df[\"fabricated_information\"] = pd.to_numeric(\n",
    "        df[\"fabricated_information\"], errors=\"coerce\"\n",
    "    )\n",
    "\n",
    "    # Group and compute mean (NaN values ignored automatically)\n",
    "    print(\n",
    "        df.groupby(level=[0, 1])[\"fabricated_information\"].mean()\n",
    "    )\n",
    "\n",
    "    # Save cleaned dataframe\n",
    "    df.to_csv(\n",
    "        f\"results/fabricated_info/{task_name}_q1.csv\", index=False\n",
    "    )"
   ]
  }
 ],
 "metadata": {
  "kernelspec": {
   "display_name": ".venv",
   "language": "python",
   "name": "python3"
  },
  "language_info": {
   "codemirror_mode": {
    "name": "ipython",
    "version": 3
   },
   "file_extension": ".py",
   "mimetype": "text/x-python",
   "name": "python",
   "nbconvert_exporter": "python",
   "pygments_lexer": "ipython3",
   "version": "3.10.15"
  }
 },
 "nbformat": 4,
 "nbformat_minor": 5
}
