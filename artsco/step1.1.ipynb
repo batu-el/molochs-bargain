{
 "cells": [
  {
   "cell_type": "markdown",
   "metadata": {},
   "source": [
    "# Setup"
   ]
  },
  {
   "cell_type": "code",
   "execution_count": null,
   "metadata": {},
   "outputs": [],
   "source": [
    "import os\n",
    "# Sent Environment Variables\n",
    "print(\"Environment variables set successfully!\")"
   ]
  },
  {
   "cell_type": "code",
   "execution_count": null,
   "metadata": {},
   "outputs": [],
   "source": [
    "from transformers import AutoTokenizer\n",
    "from datasets import load_dataset\n",
    "import json"
   ]
  },
  {
   "cell_type": "markdown",
   "metadata": {},
   "source": [
    "# Prepare Data"
   ]
  },
  {
   "cell_type": "code",
   "execution_count": null,
   "metadata": {},
   "outputs": [],
   "source": [
    "ds_names = [\"task_elections\", \"task_sales\" , \"task_sm\"]\n",
    "splits = [\"train\" , \"test\"]\n",
    "\n",
    "datasets = {ds_name: {split: load_dataset(\"json\", data_files=f\"data/{ds_name}/{split}.json\")['train'] for split in splits} for ds_name in ds_names}"
   ]
  },
  {
   "cell_type": "code",
   "execution_count": null,
   "metadata": {},
   "outputs": [],
   "source": [
    "from utils import process_dataset, MODELS"
   ]
  },
  {
   "cell_type": "code",
   "execution_count": null,
   "metadata": {},
   "outputs": [],
   "source": [
    "for ds_name in ds_names:\n",
    "    for split in splits:\n",
    "        for model_name in MODELS:\n",
    "            Tokenizer = AutoTokenizer.from_pretrained(model_name, trust_remote_code=True)\n",
    "            dataset = datasets[ds_name][split].map(lambda example: {'prompt': process_dataset(example, tokenizer=Tokenizer, ds_name=ds_name)}, load_from_cache_file=False)\n",
    "            curr_data_path = f\"data/{ds_name}/{model_name}/{split}.json\"\n",
    "            if os.path.exists(curr_data_path):\n",
    "                os.remove(curr_data_path)\n",
    "            dataset.to_json(curr_data_path)"
   ]
  }
 ],
 "metadata": {
  "kernelspec": {
   "display_name": "base",
   "language": "python",
   "name": "python3"
  },
  "language_info": {
   "codemirror_mode": {
    "name": "ipython",
    "version": 3
   },
   "file_extension": ".py",
   "mimetype": "text/x-python",
   "name": "python",
   "nbconvert_exporter": "python",
   "pygments_lexer": "ipython3",
   "version": "3.12.11"
  }
 },
 "nbformat": 4,
 "nbformat_minor": 2
}
