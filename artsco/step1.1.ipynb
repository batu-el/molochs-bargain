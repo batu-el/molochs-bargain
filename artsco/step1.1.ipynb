{
 "cells": [
  {
   "cell_type": "markdown",
   "metadata": {},
   "source": [
    "# Setup"
   ]
  },
  {
   "cell_type": "code",
   "execution_count": null,
   "metadata": {},
   "outputs": [
    {
     "name": "stdout",
     "output_type": "stream",
     "text": [
      "Environment variables set successfully!\n"
     ]
    }
   ],
   "source": [
    "import os\n",
    "# Sent Environment Variables\n",
    "print(\"Environment variables set successfully!\")"
   ]
  },
  {
   "cell_type": "code",
   "execution_count": 2,
   "metadata": {},
   "outputs": [
    {
     "name": "stderr",
     "output_type": "stream",
     "text": [
      "/scratch/groups/jamesz/batu/miniconda3/envs/hfds-py312/lib/python3.12/site-packages/tqdm/auto.py:21: TqdmWarning: IProgress not found. Please update jupyter and ipywidgets. See https://ipywidgets.readthedocs.io/en/stable/user_install.html\n",
      "  from .autonotebook import tqdm as notebook_tqdm\n"
     ]
    }
   ],
   "source": [
    "from transformers import AutoTokenizer\n",
    "from datasets import load_dataset\n",
    "import json"
   ]
  },
  {
   "cell_type": "markdown",
   "metadata": {},
   "source": [
    "# Prepare Data"
   ]
  },
  {
   "cell_type": "code",
   "execution_count": 3,
   "metadata": {},
   "outputs": [
    {
     "name": "stderr",
     "output_type": "stream",
     "text": [
      "Generating train split: 1024 examples [00:00, 16202.35 examples/s]\n",
      "Generating train split: 1024 examples [00:00, 56282.41 examples/s]\n",
      "Generating train split: 1024 examples [00:00, 76922.49 examples/s]\n",
      "Generating train split: 1024 examples [00:00, 80074.71 examples/s]\n",
      "Generating train split: 1024 examples [00:00, 80905.84 examples/s]\n",
      "Generating train split: 1024 examples [00:00, 81755.95 examples/s]\n"
     ]
    }
   ],
   "source": [
    "ds_names = [\"task_elections\", \"task_sales\" , \"task_sm\"]\n",
    "splits = [\"train\" , \"test\"]\n",
    "\n",
    "datasets = {ds_name: {split: load_dataset(\"json\", data_files=f\"data/{ds_name}/{split}.json\")['train'] for split in splits} for ds_name in ds_names}"
   ]
  },
  {
   "cell_type": "code",
   "execution_count": 4,
   "metadata": {},
   "outputs": [],
   "source": [
    "from utils import process_dataset, MODELS"
   ]
  },
  {
   "cell_type": "code",
   "execution_count": 5,
   "metadata": {},
   "outputs": [
    {
     "name": "stderr",
     "output_type": "stream",
     "text": [
      "Map: 100%|██████████| 1024/1024 [00:00<00:00, 9538.71 examples/s] \n",
      "Creating json from Arrow format: 100%|██████████| 2/2 [00:00<00:00, 75.00ba/s]\n",
      "Map: 100%|██████████| 1024/1024 [00:00<00:00, 7684.27 examples/s]\n",
      "Creating json from Arrow format: 100%|██████████| 2/2 [00:00<00:00, 94.41ba/s]\n",
      "Map: 100%|██████████| 1024/1024 [00:00<00:00, 8523.84 examples/s]\n",
      "Creating json from Arrow format: 100%|██████████| 2/2 [00:00<00:00, 99.00ba/s]\n",
      "Map: 100%|██████████| 1024/1024 [00:00<00:00, 6861.50 examples/s]\n",
      "Creating json from Arrow format: 100%|██████████| 2/2 [00:00<00:00, 82.86ba/s]\n",
      "Map: 100%|██████████| 1024/1024 [00:00<00:00, 10903.95 examples/s]\n",
      "Creating json from Arrow format: 100%|██████████| 2/2 [00:00<00:00, 85.55ba/s]\n",
      "Map: 100%|██████████| 1024/1024 [00:00<00:00, 8215.14 examples/s]\n",
      "Creating json from Arrow format: 100%|██████████| 2/2 [00:00<00:00, 99.78ba/s]\n",
      "Map: 100%|██████████| 1024/1024 [00:00<00:00, 8501.22 examples/s]\n",
      "Creating json from Arrow format: 100%|██████████| 2/2 [00:00<00:00, 99.88ba/s]\n",
      "Map: 100%|██████████| 1024/1024 [00:00<00:00, 6249.44 examples/s]\n",
      "Creating json from Arrow format: 100%|██████████| 2/2 [00:00<00:00, 44.47ba/s]\n",
      "Map: 100%|██████████| 1024/1024 [00:00<00:00, 10494.78 examples/s]\n",
      "Creating json from Arrow format: 100%|██████████| 2/2 [00:00<00:00, 132.38ba/s]\n",
      "Map: 100%|██████████| 1024/1024 [00:00<00:00, 7953.19 examples/s]\n",
      "Creating json from Arrow format: 100%|██████████| 2/2 [00:00<00:00, 139.48ba/s]\n",
      "Map: 100%|██████████| 1024/1024 [00:00<00:00, 7861.37 examples/s]\n",
      "Creating json from Arrow format: 100%|██████████| 2/2 [00:00<00:00, 130.55ba/s]\n",
      "Map: 100%|██████████| 1024/1024 [00:00<00:00, 3233.05 examples/s]\n",
      "Creating json from Arrow format: 100%|██████████| 2/2 [00:00<00:00, 129.78ba/s]\n",
      "Map: 100%|██████████| 1024/1024 [00:00<00:00, 10552.59 examples/s]\n",
      "Creating json from Arrow format: 100%|██████████| 2/2 [00:00<00:00, 136.00ba/s]\n",
      "Map: 100%|██████████| 1024/1024 [00:00<00:00, 7956.02 examples/s]\n",
      "Creating json from Arrow format: 100%|██████████| 2/2 [00:00<00:00, 140.00ba/s]\n",
      "Map: 100%|██████████| 1024/1024 [00:00<00:00, 8008.50 examples/s]\n",
      "Creating json from Arrow format: 100%|██████████| 2/2 [00:00<00:00, 133.40ba/s]\n",
      "Map: 100%|██████████| 1024/1024 [00:00<00:00, 7939.51 examples/s]\n",
      "Creating json from Arrow format: 100%|██████████| 2/2 [00:00<00:00, 130.23ba/s]\n",
      "Map: 100%|██████████| 1024/1024 [00:00<00:00, 11977.04 examples/s]\n",
      "Creating json from Arrow format: 100%|██████████| 2/2 [00:00<00:00, 121.50ba/s]\n",
      "Map: 100%|██████████| 1024/1024 [00:00<00:00, 9182.68 examples/s]\n",
      "Creating json from Arrow format: 100%|██████████| 2/2 [00:00<00:00, 129.35ba/s]\n",
      "Map: 100%|██████████| 1024/1024 [00:00<00:00, 9197.19 examples/s]\n",
      "Creating json from Arrow format: 100%|██████████| 2/2 [00:00<00:00, 130.51ba/s]\n",
      "Map: 100%|██████████| 1024/1024 [00:00<00:00, 9072.92 examples/s]\n",
      "Creating json from Arrow format: 100%|██████████| 2/2 [00:00<00:00, 118.56ba/s]\n",
      "Map: 100%|██████████| 1024/1024 [00:00<00:00, 12653.73 examples/s]\n",
      "Creating json from Arrow format: 100%|██████████| 2/2 [00:00<00:00, 120.79ba/s]\n",
      "Map: 100%|██████████| 1024/1024 [00:00<00:00, 9171.21 examples/s]\n",
      "Creating json from Arrow format: 100%|██████████| 2/2 [00:00<00:00, 123.41ba/s]\n",
      "Map: 100%|██████████| 1024/1024 [00:00<00:00, 9204.93 examples/s]\n",
      "Creating json from Arrow format: 100%|██████████| 2/2 [00:00<00:00, 133.19ba/s]\n",
      "Map: 100%|██████████| 1024/1024 [00:00<00:00, 9173.03 examples/s]\n",
      "Creating json from Arrow format: 100%|██████████| 2/2 [00:00<00:00, 119.78ba/s]\n"
     ]
    }
   ],
   "source": [
    "for ds_name in ds_names:\n",
    "    for split in splits:\n",
    "        for model_name in MODELS:\n",
    "            Tokenizer = AutoTokenizer.from_pretrained(model_name, trust_remote_code=True)\n",
    "            dataset = datasets[ds_name][split].map(lambda example: {'prompt': process_dataset(example, tokenizer=Tokenizer, ds_name=ds_name)}, load_from_cache_file=False)\n",
    "            curr_data_path = f\"data/{ds_name}/{model_name}/{split}.json\"\n",
    "            if os.path.exists(curr_data_path):\n",
    "                os.remove(curr_data_path)\n",
    "            dataset.to_json(curr_data_path)"
   ]
  }
 ],
 "metadata": {
  "kernelspec": {
   "display_name": "base",
   "language": "python",
   "name": "python3"
  },
  "language_info": {
   "codemirror_mode": {
    "name": "ipython",
    "version": 3
   },
   "file_extension": ".py",
   "mimetype": "text/x-python",
   "name": "python",
   "nbconvert_exporter": "python",
   "pygments_lexer": "ipython3",
   "version": "3.12.11"
  }
 },
 "nbformat": 4,
 "nbformat_minor": 2
}
